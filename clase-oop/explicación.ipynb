{
 "cells": [
  {
   "cell_type": "markdown",
   "metadata": {},
   "source": [
    "La Programación Orientada a Objetos (POO) es un paradigma de programación que se centra en la organización de datos y la funcionalidad en torno a \"objetos\", que son instancias de clases. En Python, todo es un objeto, desde números y cadenas hasta funciones y módulos. Aquí te explicaré los conceptos clave de la POO en Python de manera detallada:\n",
    "\n",
    "Clases y Objetos:\n",
    "\n",
    "En POO, una clase es un plano o plantilla para crear objetos. Define los atributos (datos) y métodos (funciones) que los objetos de esa clase tendrán.\n",
    "Un objeto es una instancia concreta de una clase. Cada objeto tiene sus propios valores de atributos, pero comparte los mismos métodos definidos en la clase.\n",
    "Definición de una Clase:\n",
    "\n",
    "Para crear una clase en Python, utiliza la palabra clave class, seguida del nombre de la clase (conviene seguir la convención de nombres en CamelCase). Aquí hay un ejemplo simple:"
   ]
  },
  {
   "cell_type": "code",
   "execution_count": null,
   "metadata": {},
   "outputs": [],
   "source": [
    "class MiClase:\n",
    "    # Atributos\n",
    "    variable = 123\n",
    "\n",
    "    # Métodos\n",
    "    def mi_metodo(self):\n",
    "        return \"Hola, soy un método de MiClase\""
   ]
  },
  {
   "cell_type": "markdown",
   "metadata": {},
   "source": [
    "Instanciación de Objetos:\n",
    "\n",
    "Para crear un objeto a partir de una clase, simplemente llámala como si fuera una función:"
   ]
  },
  {
   "cell_type": "code",
   "execution_count": null,
   "metadata": {},
   "outputs": [],
   "source": [
    "objeto = MiClase()"
   ]
  },
  {
   "cell_type": "markdown",
   "metadata": {},
   "source": [
    "Atributos:\n",
    "\n",
    "Los atributos son variables asociadas a un objeto o clase. Pueden ser de instancia (asociados a objetos individuales) o de clase (compartidos por todos los objetos de la clase)."
   ]
  },
  {
   "cell_type": "code",
   "execution_count": null,
   "metadata": {},
   "outputs": [],
   "source": [
    "objeto.variable  # Acceder a un atributo de instancia\n",
    "MiClase.variable  # Acceder a un atributo de clase"
   ]
  },
  {
   "cell_type": "markdown",
   "metadata": {},
   "source": [
    "Métodos:\n",
    "\n",
    "Los métodos son funciones asociadas a una clase. Pueden operar en los atributos de la clase o realizar otras operaciones."
   ]
  },
  {
   "cell_type": "code",
   "execution_count": null,
   "metadata": {},
   "outputs": [],
   "source": [
    "objeto.mi_metodo()  # Llamar a un método de instancia"
   ]
  },
  {
   "cell_type": "markdown",
   "metadata": {},
   "source": [
    "Constructor __init__:\n",
    "\n",
    "El método __init__ se llama automáticamente cuando se crea un nuevo objeto. Puede utilizarse para inicializar los atributos de la instancia."
   ]
  },
  {
   "cell_type": "code",
   "execution_count": null,
   "metadata": {},
   "outputs": [],
   "source": [
    "def __init__(self, parametro):\n",
    "    self.parametro = parametro"
   ]
  },
  {
   "cell_type": "markdown",
   "metadata": {},
   "source": [
    "Herencia:\n",
    "\n",
    "La herencia permite crear una nueva clase basada en una clase existente. La nueva clase hereda atributos y métodos de la clase base."
   ]
  },
  {
   "cell_type": "code",
   "execution_count": null,
   "metadata": {},
   "outputs": [],
   "source": [
    "class NuevaClase(MiClase):\n",
    "    def otro_metodo(self):\n",
    "        return \"Soy un método de la clase derivada\""
   ]
  },
  {
   "cell_type": "markdown",
   "metadata": {},
   "source": [
    "Encapsulación:\n",
    "\n",
    "En Python, no existe la encapsulación estricta como en otros lenguajes, pero se puede utilizar el prefijo _ para indicar que un atributo o método es privado."
   ]
  },
  {
   "cell_type": "code",
   "execution_count": null,
   "metadata": {},
   "outputs": [],
   "source": [
    "class MiClase:\n",
    "    def __init__(self):\n",
    "        self._privado = 123"
   ]
  }
 ],
 "metadata": {
  "kernelspec": {
   "display_name": "Python 3",
   "language": "python",
   "name": "python3"
  },
  "language_info": {
   "name": "python",
   "version": "3.11.2"
  }
 },
 "nbformat": 4,
 "nbformat_minor": 2
}
